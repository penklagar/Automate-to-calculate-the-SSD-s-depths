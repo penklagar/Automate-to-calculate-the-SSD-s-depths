{
 "cells": [
  {
   "cell_type": "code",
   "execution_count": 6,
   "id": "a1732f79-ebef-4250-9b8d-8e9923881a0b",
   "metadata": {},
   "outputs": [],
   "source": [
    "import cv2\n",
    "import numpy as np\n",
    " \n",
    " \n",
    "planets = cv2.imread('planet.jpg')\n",
    "gray_img = cv2.cvtColor(planets, cv2.COLOR_BGR2GRAY)\n",
    "img = cv2.medianBlur(gray_img, 5)\n",
    "cimg = cv2.cvtColor(img,cv2.COLOR_GRAY2BGR)\n",
    " \n",
    "#center\n",
    " \n",
    "circles = cv2.HoughCircles(img,cv2.HOUGH_GRADIENT,1,120,param1=100,param2=30,minRadius=0,maxRadius=0)\n",
    "circles = np.uint16(np.around(circles))\n",
    " \n",
    "for i in circles[0,:]:\n",
    "    #draw the outer circle\n",
    "    cv2.circle(planets,(i[0],i[1]),i[2],(0,255,0),6)\n",
    "    #draw the center of the circle\n",
    "    cv2.circle(planets,(i[0],i[1]),2,(0,0,255),3)\n",
    " \n",
    "cv2.imshow(\"HoughCirlces\",\tplanets)\n",
    "cv2.waitKey()\n",
    "cv2.destroyAllWindows()"
   ]
  },
  {
   "cell_type": "code",
   "execution_count": null,
   "id": "db19c72f-c089-460a-abb2-565a163f6ee2",
   "metadata": {},
   "outputs": [],
   "source": [
    "planets = cv2.imread('planet.jpg')\n",
    "gray_img = cv2.cvtColor(planets, cv2.COLOR_BGR2GRAY)\n",
    "img = cv2.medianBlur(gray_img,5)\n",
    "cimg = cv2.cvtColor(img,cv2.COLOR_GRAY2BGR)"
   ]
  },
  {
   "cell_type": "code",
   "execution_count": null,
   "id": "0141f58e-37c8-4592-b698-6ee706c507bb",
   "metadata": {},
   "outputs": [],
   "source": [
    "circles\t= cv2.HoughCircles(img,cv2.HOUGH_GRADIENT,1,120,param1=100,param2=30,minRadius=0,maxRadius=0)"
   ]
  },
  {
   "cell_type": "code",
   "execution_count": null,
   "id": "5472804c-ef27-47a3-a4e6-219e25e36f74",
   "metadata": {},
   "outputs": [],
   "source": [
    "for\ti in circles[0,:]:\n",
    "\t\t\t\t#\tdraw\tthe\touter\tcircle\n",
    "\t\t\t\tcv2.circle(planets,(i[0],i[1]),i[2],(0,255,0),6)\n",
    "\t\t\t\t#\tdraw\tthe\tcenter\tof\tthe\tcircle\n",
    "\t\t\t\tcv2.circle(planets,(i[0],i[1]),2,(0,0,255),3)"
   ]
  },
  {
   "cell_type": "code",
   "execution_count": 7,
   "id": "8ca55cbd-9101-4ac1-9070-ec8ec8b07604",
   "metadata": {},
   "outputs": [],
   "source": [
    "cv2.imshow(\"HoughCirlces\", planets)\n",
    "cv2.waitKey()\n",
    "cv2.destroyAllWindows()"
   ]
  },
  {
   "cell_type": "code",
   "execution_count": null,
   "id": "11e7d756-2f49-4d37-b4b0-bfb8d7377d38",
   "metadata": {},
   "outputs": [],
   "source": []
  }
 ],
 "metadata": {
  "kernelspec": {
   "display_name": "Python 3 (ipykernel)",
   "language": "python",
   "name": "python3"
  },
  "language_info": {
   "codemirror_mode": {
    "name": "ipython",
    "version": 3
   },
   "file_extension": ".py",
   "mimetype": "text/x-python",
   "name": "python",
   "nbconvert_exporter": "python",
   "pygments_lexer": "ipython3",
   "version": "3.9.12"
  }
 },
 "nbformat": 4,
 "nbformat_minor": 5
}

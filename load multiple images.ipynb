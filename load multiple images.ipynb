{
 "cells": [
  {
   "cell_type": "code",
   "execution_count": null,
   "id": "a69c7aa6-42b3-4fd3-8fa8-be119d38e234",
   "metadata": {},
   "outputs": [],
   "source": [
    "import cv2\n",
    "import glob\n",
    "from skimage.filters import gussian\n",
    "from skimage import img_as_ubyte"
   ]
  },
  {
   "cell_type": "code",
   "execution_count": null,
   "id": "718582f6-0b13-41ce-9da7-f101b92d78da",
   "metadata": {},
   "outputs": [],
   "source": [
    "path = \"images/images_for_batch/imgs/*.*\""
   ]
  },
  {
   "cell_type": "code",
   "execution_count": null,
   "id": "36f927ee-92df-4356-b9f2-da4de7491316",
   "metadata": {},
   "outputs": [],
   "source": [
    "img_number = 1"
   ]
  },
  {
   "cell_type": "code",
   "execution_count": 1,
   "id": "da532ae9-239d-494c-b44d-4b273e2efea6",
   "metadata": {},
   "outputs": [
    {
     "ename": "SyntaxError",
     "evalue": "invalid syntax (587050126.py, line 1)",
     "output_type": "error",
     "traceback": [
      "\u001b[0;36m  File \u001b[0;32m\"/var/folders/7c/mfjfp21x5mv5gjlvtzsgn0lm0000gn/T/ipykernel_1828/587050126.py\"\u001b[0;36m, line \u001b[0;32m1\u001b[0m\n\u001b[0;31m    https://www.youtube.com/watch?v=bx-0HNvJwSg\u001b[0m\n\u001b[0m          ^\u001b[0m\n\u001b[0;31mSyntaxError\u001b[0m\u001b[0;31m:\u001b[0m invalid syntax\n"
     ]
    }
   ],
   "source": [
    "https://www.youtube.com/watch?v=bx-0HNvJwSg"
   ]
  },
  {
   "cell_type": "code",
   "execution_count": null,
   "id": "8de09a45-37a8-44c4-ae33-87af7761fd79",
   "metadata": {},
   "outputs": [],
   "source": []
  }
 ],
 "metadata": {
  "kernelspec": {
   "display_name": "Python 3 (ipykernel)",
   "language": "python",
   "name": "python3"
  },
  "language_info": {
   "codemirror_mode": {
    "name": "ipython",
    "version": 3
   },
   "file_extension": ".py",
   "mimetype": "text/x-python",
   "name": "python",
   "nbconvert_exporter": "python",
   "pygments_lexer": "ipython3",
   "version": "3.9.12"
  }
 },
 "nbformat": 4,
 "nbformat_minor": 5
}

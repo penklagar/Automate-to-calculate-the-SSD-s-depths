{
 "cells": [
  {
   "cell_type": "code",
   "execution_count": 3,
   "id": "977b1b06-4165-480d-a1a9-f38e9b81d7c6",
   "metadata": {},
   "outputs": [
    {
     "name": "stdout",
     "output_type": "stream",
     "text": [
      "0\n"
     ]
    }
   ],
   "source": [
    "import numpy as np\n",
    "\n",
    "import cv2\n",
    "\n",
    "img = cv2.imread('images/1_2.jpg')\n",
    "\n",
    "img_thresholded = cv2.inRange(img, (60, 60, 60), (140, 140, 140))\n",
    "\n",
    "kernel = np.ones((10,10),np.uint8)\n",
    "\n",
    "opening = cv2.morphologyEx(img_thresholded, cv2.MORPH_OPEN, kernel)\n",
    "\n",
    "contours, hierarchy = cv2.findContours(opening.copy(), cv2.RETR_TREE, cv2.CHAIN_APPROX_NONE)\n",
    "\n",
    "print( len(contours))\n",
    "\n",
    "i=0\n",
    "\n",
    "for contour in contours:\n",
    "\n",
    "    (x,y),radius = cv2.minEnclosingCircle(contour)\n",
    "\n",
    "    center = (int(x),int(y))\n",
    "\n",
    "    radius = int(radius)\n",
    "\n",
    "    cv2.circle(img,center,radius,(0,255,0),2)\n",
    "\n",
    "# labelling the circles around the centers, in no particular order.\n",
    "\n",
    "    position = (center[0] - 10, center[1] + 10)\n",
    "\n",
    "    text_color = (0, 0, 255)\n",
    "\n",
    "    cv2.putText(img, str(i + 1), position, cv2.FONT_HERSHEY_SIMPLEX, 1, text_color, 3)\n",
    "\n",
    "    imS = cv2.resize(img, (960, 540))\n",
    "\n",
    "    cv2.imshow('Objects Detected', imS)\n",
    "    cv2.waitKey(0)"
   ]
  },
  {
   "cell_type": "code",
   "execution_count": null,
   "id": "633a9fca-1b6e-4624-8918-20d6fc9a3533",
   "metadata": {},
   "outputs": [],
   "source": []
  }
 ],
 "metadata": {
  "kernelspec": {
   "display_name": "Python 3 (ipykernel)",
   "language": "python",
   "name": "python3"
  },
  "language_info": {
   "codemirror_mode": {
    "name": "ipython",
    "version": 3
   },
   "file_extension": ".py",
   "mimetype": "text/x-python",
   "name": "python",
   "nbconvert_exporter": "python",
   "pygments_lexer": "ipython3",
   "version": "3.9.12"
  }
 },
 "nbformat": 4,
 "nbformat_minor": 5
}
